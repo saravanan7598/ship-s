{
  "nbformat": 4,
  "nbformat_minor": 0,
  "metadata": {
    "colab": {
      "name": "calculate_lengthGrid.ipynb",
      "provenance": []
    },
    "kernelspec": {
      "name": "python3",
      "display_name": "Python 3"
    },
    "language_info": {
      "name": "python"
    }
  },
  "cells": [
    {
      "cell_type": "code",
      "metadata": {
        "id": "-VvDvbniw-e3"
      },
      "source": [
        "import numpy as np\n",
        "\n",
        "arr = np.zeros([4, 3])"
      ],
      "execution_count": null,
      "outputs": []
    },
    {
      "cell_type": "code",
      "metadata": {
        "colab": {
          "base_uri": "https://localhost:8080/"
        },
        "id": "aM01OjlNxTix",
        "outputId": "c502e7ef-8eed-46a6-ac43-51424c9c6def"
      },
      "source": [
        "arr+"
      ],
      "execution_count": null,
      "outputs": [
        {
          "output_type": "execute_result",
          "data": {
            "text/plain": [
              "array([[0., 0., 0.],\n",
              "       [0., 0., 0.],\n",
              "       [0., 0., 0.],\n",
              "       [0., 0., 0.]])"
            ]
          },
          "metadata": {
            "tags": []
          },
          "execution_count": 4
        }
      ]
    },
    {
      "cell_type": "code",
      "metadata": {
        "colab": {
          "base_uri": "https://localhost:8080/"
        },
        "id": "B55WHRI1_NPI",
        "outputId": "6f62a051-2afd-473e-bd20-39f1e04e0b51"
      },
      "source": [
        "grid= np.load(\"SOG_W.npy\")\n",
        "print(grid)"
      ],
      "execution_count": null,
      "outputs": [
        {
          "output_type": "stream",
          "text": [
            "[[-5. -5. -5. ... -5. -5. -5.]\n",
            " [-5. -5. -5. ... -5. -5. -5.]\n",
            " [-5. -5. -5. ... -5. -5. -5.]\n",
            " ...\n",
            " [-5. -5. -5. ... -5. -5. -5.]\n",
            " [-5. -5. -5. ... -5. -5. -5.]\n",
            " [-5. -5. -5. ... -5. -5. -5.]]\n"
          ],
          "name": "stdout"
        }
      ]
    },
    {
      "cell_type": "code",
      "metadata": {
        "colab": {
          "base_uri": "https://localhost:8080/"
        },
        "id": "9HBTiiNj_cro",
        "outputId": "acd2bd11-477b-42c5-c900-480745ee639d"
      },
      "source": [
        "grid.shape"
      ],
      "execution_count": null,
      "outputs": [
        {
          "output_type": "execute_result",
          "data": {
            "text/plain": [
              "(2041, 4320)"
            ]
          },
          "metadata": {
            "tags": []
          },
          "execution_count": 7
        }
      ]
    },
    {
      "cell_type": "code",
      "metadata": {
        "id": "95TcVqUrAIR6"
      },
      "source": [
        "arr = np.zeros(grid.shape)"
      ],
      "execution_count": null,
      "outputs": []
    },
    {
      "cell_type": "code",
      "metadata": {
        "colab": {
          "base_uri": "https://localhost:8080/"
        },
        "id": "Y0fqCXjdALyC",
        "outputId": "4dc746d7-1169-4a45-e8ea-941e4a97ad6c"
      },
      "source": [
        "\n",
        "km=[110.71,109.45 ,107.35,104.43,100.72, 96.2, 91.04, 85.13, 78.58, 71.44, 63.74 ,55.57,\t46.97,38.01, 28.76, 19.30, 9.69]\n",
        "\n",
        "for i in range(len(km)):\n",
        "  print(i)\n",
        "  for x in range(60*i,60*(i+1)):\n",
        "    for y in range(4320):\n",
        "      arr[x][y] = km[i]*0.083\n",
        "\n",
        "  for x in range(2040 - 60*(i+1),2040 - 60*i):\n",
        "    for y in range(4320):\n",
        "      arr[x][y] = km[i]*0.083"
      ],
      "execution_count": null,
      "outputs": [
        {
          "output_type": "stream",
          "text": [
            "0\n",
            "1\n",
            "2\n",
            "3\n",
            "4\n",
            "5\n",
            "6\n",
            "7\n",
            "8\n",
            "9\n",
            "10\n",
            "11\n",
            "12\n",
            "13\n",
            "14\n",
            "15\n",
            "16\n"
          ],
          "name": "stdout"
        }
      ]
    },
    {
      "cell_type": "code",
      "metadata": {
        "id": "OL3e6h0gCy2K"
      },
      "source": [
        "for y in range(4320):\n",
        "   arr[2040][y] = km[i]"
      ],
      "execution_count": null,
      "outputs": []
    },
    {
      "cell_type": "code",
      "metadata": {
        "colab": {
          "base_uri": "https://localhost:8080/",
          "height": 227
        },
        "id": "90Ag5992DSld",
        "outputId": "17b4bfb8-5616-473f-a98d-a091f001f546"
      },
      "source": [
        "import matplotlib.pyplot as plt\n",
        "\n",
        "plt.imshow(arr)"
      ],
      "execution_count": null,
      "outputs": [
        {
          "output_type": "execute_result",
          "data": {
            "text/plain": [
              "<matplotlib.image.AxesImage at 0x7f376a5be4d0>"
            ]
          },
          "metadata": {
            "tags": []
          },
          "execution_count": 33
        },
        {
          "output_type": "display_data",
          "data": {
            "image/png": "[encoded data removed]",
            "text/plain": [
              "<Figure size 432x288 with 1 Axes>"
            ]
          },
          "metadata": {
            "tags": [],
            "needs_background": "light"
          }
        }
      ]
    },
    {
      "cell_type": "code",
      "metadata": {
        "id": "nTCYrrJ2dSI4"
      },
      "source": [
        "np.save(\"lengthGridEW.npy\", arr)"
      ],
      "execution_count": null,
      "outputs": []
    },
    {
      "cell_type": "markdown",
      "metadata": {
        "id": "nFG-DV89-lYZ"
      },
      "source": [
        "Resources: \n",
        "http://www.iaktueller.de/exx.php\n",
        "https://de.wikipedia.org/wiki/Geographische_Breite"
      ]
    },
    {
      "cell_type": "code",
      "metadata": {
        "id": "icdE7ysb7bhm"
      },
      "source": [
        "arr2 = np.zeros(grid.shape)\n",
        "\n",
        "for x in range(2041):\n",
        "    for y in range(4320):\n",
        "      arr2[x][y] = 110*0.083\n"
      ],
      "execution_count": null,
      "outputs": []
    },
    {
      "cell_type": "code",
      "metadata": {
        "colab": {
          "base_uri": "https://localhost:8080/",
          "height": 227
        },
        "id": "dseeYD7uN7lW",
        "outputId": "885922ea-69e9-45a7-c595-013b74f9b494"
      },
      "source": [
        "import matplotlib.pyplot as plt\n",
        "\n",
        "plt.imshow(arr2)"
      ],
      "execution_count": null,
      "outputs": [
        {
          "output_type": "execute_result",
          "data": {
            "text/plain": [
              "<matplotlib.image.AxesImage at 0x7fed80f385d0>"
            ]
          },
          "metadata": {
            "tags": []
          },
          "execution_count": 7
        },
        {
          "output_type": "display_data",
          "data": {
            "image/png": "[encoded data removed]",
            "text/plain": [
              "<Figure size 432x288 with 1 Axes>"
            ]
          },
          "metadata": {
            "tags": [],
            "needs_background": "light"
          }
        }
      ]
    },
    {
      "cell_type": "code",
      "metadata": {
        "colab": {
          "base_uri": "https://localhost:8080/"
        },
        "id": "zJR0ANjEOSw8",
        "outputId": "cff54a65-5c0c-4cc7-d789-1c4a340625de"
      },
      "source": [
        "print(arr2)"
      ],
      "execution_count": null,
      "outputs": [
        {
          "output_type": "stream",
          "text": [
            "[[9.13 9.13 9.13 ... 9.13 9.13 9.13]\n",
            " [9.13 9.13 9.13 ... 9.13 9.13 9.13]\n",
            " [9.13 9.13 9.13 ... 9.13 9.13 9.13]\n",
            " ...\n",
            " [9.13 9.13 9.13 ... 9.13 9.13 9.13]\n",
            " [9.13 9.13 9.13 ... 9.13 9.13 9.13]\n",
            " [0.   0.   0.   ... 0.   0.   0.  ]]\n"
          ],
          "name": "stdout"
        }
      ]
    },
    {
      "cell_type": "code",
      "metadata": {
        "id": "cdG1X806-ksn"
      },
      "source": [
        "np.save(\"lengthGridNS.npy\", arr2)"
      ],
      "execution_count": null,
      "outputs": []
    },
    {
      "cell_type": "markdown",
      "metadata": {
        "id": "am45jbWcBf8a"
      },
      "source": [
        "1 5\n",
        "2 10\n",
        "3 15\n",
        "4 20\n",
        "5 25\n",
        "6 30\n",
        "7 35\n",
        "8 40\n",
        "9 45\n",
        "10 50\n",
        "11 55\n",
        "12 60\n",
        "13 65\n",
        "14 70\n",
        "15 75\n",
        "16 80\n",
        "17 85\n",
        "19 90\n"
      ]
    }
  ]
}